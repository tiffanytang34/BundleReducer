{
 "cells": [
  {
   "cell_type": "code",
   "execution_count": 151,
   "id": "5fe8d164",
   "metadata": {},
   "outputs": [],
   "source": [
    "from afqinsight.datasets import AFQDataset\n",
    "\n",
    "import matplotlib.pyplot as plt\n",
    "import numpy as np\n",
    "import pandas as pd\n",
    "from scipy.stats.stats import pearsonr\n",
    "import sklearn\n",
    "from importlib import reload\n",
    "import tools \n",
    "reload (tools)\n",
    "from tools import crossvalidation"
   ]
  },
  {
   "cell_type": "code",
   "execution_count": 26,
   "id": "b53c3c50",
   "metadata": {},
   "outputs": [],
   "source": [
    "from sklearn.utils import shuffle"
   ]
  },
  {
   "cell_type": "code",
   "execution_count": 3,
   "id": "ae74e73b",
   "metadata": {
    "scrolled": false
   },
   "outputs": [
    {
     "data": {
      "text/plain": [
       "<function afqinsight.datasets.AFQDataset.from_files(fn_nodes='nodes.csv', fn_subjects='subjects.csv', dwi_metrics=None, target_cols=None, label_encode_cols=None, index_col='subjectID', unsupervised=False, concat_subject_session=False, enforce_sub_prefix=True)>"
      ]
     },
     "execution_count": 3,
     "metadata": {},
     "output_type": "execute_result"
    }
   ],
   "source": [
    "AFQDataset.from_files"
   ]
  },
  {
   "cell_type": "code",
   "execution_count": 4,
   "id": "186a2a84",
   "metadata": {
    "scrolled": true
   },
   "outputs": [
    {
     "data": {
      "text/plain": [
       "'0.23.2'"
      ]
     },
     "execution_count": 4,
     "metadata": {},
     "output_type": "execute_result"
    }
   ],
   "source": [
    "sklearn.__version__"
   ]
  },
  {
   "cell_type": "code",
   "execution_count": 5,
   "id": "3e9a6836",
   "metadata": {},
   "outputs": [],
   "source": [
    "afq_dataset = AFQDataset.from_files(\n",
    "    fn_nodes=\"combined_tract_profiles.csv\", fn_subjects=\"participant_data.tsv\", \n",
    "    dwi_metrics=[\"dki_fa\"],\n",
    "    target_cols = ['age'],\n",
    "    index_col=\"Observations\")\n"
   ]
  },
  {
   "cell_type": "code",
   "execution_count": 6,
   "id": "54667c16",
   "metadata": {},
   "outputs": [],
   "source": [
    "feat_array = np.array(afq_dataset.feature_names)"
   ]
  },
  {
   "cell_type": "code",
   "execution_count": 7,
   "id": "d4f6c3e8",
   "metadata": {
    "scrolled": false
   },
   "outputs": [
    {
     "data": {
      "text/plain": [
       "array(['ARC_L', 'ARC_R', 'ATR_L', 'ATR_R', 'CGC_L', 'CGC_R', 'CST_L',\n",
       "       'CST_R', 'FA', 'FP', 'IFO_L', 'IFO_R', 'ILF_L', 'ILF_R', 'SLF_L',\n",
       "       'SLF_R', 'UNC_L', 'UNC_R'], dtype='<U6')"
      ]
     },
     "execution_count": 7,
     "metadata": {},
     "output_type": "execute_result"
    }
   ],
   "source": [
    "np.unique(feat_array[:, 1])"
   ]
  },
  {
   "cell_type": "code",
   "execution_count": 99,
   "id": "a867440c",
   "metadata": {},
   "outputs": [],
   "source": [
    "bundle_name = feat_array[::100, 1]\n",
    "bundle_num = bundle_name.size"
   ]
  },
  {
   "cell_type": "code",
   "execution_count": 9,
   "id": "d40927a2",
   "metadata": {},
   "outputs": [],
   "source": [
    "data = afq_dataset.X"
   ]
  },
  {
   "cell_type": "code",
   "execution_count": 10,
   "id": "3be6cd12",
   "metadata": {},
   "outputs": [
    {
     "data": {
      "text/plain": [
       "(641, 1800)"
      ]
     },
     "execution_count": 10,
     "metadata": {},
     "output_type": "execute_result"
    }
   ],
   "source": [
    "data.shape"
   ]
  },
  {
   "cell_type": "code",
   "execution_count": 11,
   "id": "8b258ed7",
   "metadata": {},
   "outputs": [
    {
     "data": {
      "text/plain": [
       "(641,)"
      ]
     },
     "execution_count": 11,
     "metadata": {},
     "output_type": "execute_result"
    }
   ],
   "source": [
    "age = afq_dataset.y\n",
    "age.shape\n"
   ]
  },
  {
   "cell_type": "code",
   "execution_count": 31,
   "id": "2f9444cf",
   "metadata": {},
   "outputs": [
    {
     "data": {
      "text/plain": [
       "18.530637373937655"
      ]
     },
     "execution_count": 31,
     "metadata": {},
     "output_type": "execute_result"
    }
   ],
   "source": [
    "np.std(age)"
   ]
  },
  {
   "cell_type": "code",
   "execution_count": 12,
   "id": "bfc1aba6",
   "metadata": {},
   "outputs": [],
   "source": [
    "nan_ages = np.isnan(age)\n",
    "age = age[~nan_ages]"
   ]
  },
  {
   "cell_type": "code",
   "execution_count": 13,
   "id": "31e2a2a8",
   "metadata": {},
   "outputs": [
    {
     "data": {
      "text/plain": [
       "(640,)"
      ]
     },
     "execution_count": 13,
     "metadata": {},
     "output_type": "execute_result"
    }
   ],
   "source": [
    "age.shape"
   ]
  },
  {
   "cell_type": "code",
   "execution_count": 14,
   "id": "1244fe93",
   "metadata": {},
   "outputs": [
    {
     "data": {
      "text/plain": [
       "(640, 1800)"
      ]
     },
     "execution_count": 14,
     "metadata": {},
     "output_type": "execute_result"
    }
   ],
   "source": [
    "data = data[~nan_ages]\n",
    "data.shape"
   ]
  },
  {
   "cell_type": "code",
   "execution_count": 121,
   "id": "f2564b05",
   "metadata": {},
   "outputs": [
    {
     "data": {
      "text/plain": [
       "Text(0, 0.5, 'Frequency')"
      ]
     },
     "execution_count": 121,
     "metadata": {},
     "output_type": "execute_result"
    },
    {
     "data": {
      "image/png": "[encoded data removed]",
      "text/plain": [
       "<Figure size 432x288 with 1 Axes>"
      ]
     },
     "metadata": {
      "needs_background": "light"
     },
     "output_type": "display_data"
    }
   ],
   "source": [
    "\n",
    "plt.hist(age, edgecolor='purple')\n",
    "# plt.title(\"Distribution of Sample Age (n=640)\")\n",
    "plt.xlabel(\"Age\")\n",
    "plt.ylabel(\"Frequency\")"
   ]
  },
  {
   "cell_type": "markdown",
   "id": "3e52aac4",
   "metadata": {},
   "source": [
    "#### create a dictionary to store bundle as key and responding data as value"
   ]
  },
  {
   "cell_type": "code",
   "execution_count": 15,
   "id": "12c9baf3",
   "metadata": {},
   "outputs": [],
   "source": [
    "Dict = {}\n",
    "for i in range(bundle_num) :\n",
    "    Dict[bundle_name[i]] = data[:, (i*100):((i+1)*100)]"
   ]
  },
  {
   "cell_type": "code",
   "execution_count": 51,
   "id": "d9d0b285",
   "metadata": {},
   "outputs": [],
   "source": [
    "from sklearn.impute import SimpleImputer\n",
    "def impute(data):\n",
    "    imputer = SimpleImputer(missing_values=np.nan, strategy='mean')\n",
    "    data_imp = imputer.fit_transform(data)\n",
    "    return data_imp"
   ]
  },
  {
   "cell_type": "markdown",
   "id": "f2fbac5c",
   "metadata": {},
   "source": [
    "function to calculate r and random r"
   ]
  },
  {
   "cell_type": "code",
   "execution_count": 136,
   "id": "27993617",
   "metadata": {},
   "outputs": [],
   "source": [
    "def r_calculator(num_dimen, method):\n",
    "    pearson_r_p = np.zeros([num_dimen, 18])\n",
    "    rand_pearson_r_p = np.zeros([num_dimen, 18, 1000])\n",
    "    variance = np.zeros([num_dimen, 18])\n",
    "    br_p = tools.BundleReducer(method, num_dimen)\n",
    "    \n",
    "    for i in range(bundle_num) :\n",
    "    #     data_impute = br3.impute(Dict.get(bundle_name[i]).T)\n",
    "        data_imp = impute(Dict.get(bundle_name[i]))\n",
    "        clf = br_p.fit(data_imp.T)\n",
    "        components = clf.components_\n",
    "        variance[:, i] = clf.explained_variance_ratio_\n",
    "\n",
    "        for j in range(num_dimen):\n",
    "    #         plt.scatter(age, components[0, :])\n",
    "    #         plt.title('correlation between age and reduced {} in the {} component in PCA'.format(bundle_name[i], j))\n",
    "    #         plt.savefig('/Users/tiffany/Desktop/UW/Rokem/image_output/correlation between age and {} in the {} component in PCA.png'.format(bundle_name[i], j), bbox_inches='tight')\n",
    "            r, p = pearsonr(age, components[j, :])\n",
    "            pearson_r_p[j, i] = r**2\n",
    "            for k in range(1000):\n",
    "\n",
    "                shuffled_age = shuffle(age)\n",
    "                r_rand, p_rand = pearsonr(shuffled_age, components[j, :])\n",
    "                rand_pearson_r_p[j, i, k] = r_rand**2\n",
    "    return variance, pearson_r_p, rand_pearson_r_p"
   ]
  },
  {
   "cell_type": "code",
   "execution_count": 83,
   "id": "93732039",
   "metadata": {},
   "outputs": [],
   "source": [
    "def p_value_calculator( true_r, rand_r):\n",
    "    p_value = np.zeros([num_dimen, 18])\n",
    "    for i in range(18):\n",
    "        for j in range(num_dimen):\n",
    "            p_value[j, i] = np.sum(rand_r[j, i, :]>true_r[j, i])/1000\n",
    "    return p_value"
   ]
  },
  {
   "cell_type": "code",
   "execution_count": 107,
   "id": "75379e30",
   "metadata": {},
   "outputs": [],
   "source": [
    "def r_plotter(bundle_name, true_r, num_dimen):\n",
    "    for i in range(num_dimen):\n",
    "        plt.plot(bundle_name, true_r[i, :],  label='%s reduced dimension' % (i+1))\n",
    "\n",
    "    plt.xticks(\n",
    "        rotation=45, \n",
    "        horizontalalignment='right',\n",
    "        fontweight='light',\n",
    "        fontsize='large'  \n",
    "    )\n",
    "    plt.title(\"pearson r of reduced dimension vairance and age for each reduced dimension\")\n",
    "    plt.legend(loc='upper right')\n",
    "    plt.tight_layout()\n",
    "    plt.show()"
   ]
  },
  {
   "cell_type": "markdown",
   "id": "a04fc58d",
   "metadata": {},
   "source": [
    "### look at FA data"
   ]
  },
  {
   "cell_type": "code",
   "execution_count": 152,
   "id": "307a57da",
   "metadata": {},
   "outputs": [],
   "source": [
    "fa = data[:, 900:1000]"
   ]
  },
  {
   "cell_type": "code",
   "execution_count": 153,
   "id": "e0c5c5fc",
   "metadata": {},
   "outputs": [],
   "source": [
    "br_fa = tools.BundleReducer(\"PCA\", 4)"
   ]
  },
  {
   "cell_type": "code",
   "execution_count": 154,
   "id": "02eb98fe",
   "metadata": {},
   "outputs": [],
   "source": [
    "fa_imp = impute(fa)\n",
    "clf =   br_fa.fit(fa_imp.T)\n",
    "components = clf.components_"
   ]
  },
  {
   "cell_type": "code",
   "execution_count": 161,
   "id": "7c5d3241",
   "metadata": {},
   "outputs": [
    {
     "data": {
      "text/plain": [
       "(640, 100)"
      ]
     },
     "execution_count": 161,
     "metadata": {},
     "output_type": "execute_result"
    }
   ],
   "source": [
    "fa_imp.shape"
   ]
  },
  {
   "cell_type": "code",
   "execution_count": 159,
   "id": "10ef117e",
   "metadata": {},
   "outputs": [],
   "source": [
    "projection = components@fa_imp"
   ]
  },
  {
   "cell_type": "code",
   "execution_count": 160,
   "id": "3337cb81",
   "metadata": {},
   "outputs": [
    {
     "data": {
      "text/plain": [
       "(4, 100)"
      ]
     },
     "execution_count": 160,
     "metadata": {},
     "output_type": "execute_result"
    }
   ],
   "source": [
    "projection.shape"
   ]
  },
  {
   "cell_type": "code",
   "execution_count": 155,
   "id": "68c361c4",
   "metadata": {},
   "outputs": [
    {
     "data": {
      "text/plain": [
       "(4, 640)"
      ]
     },
     "execution_count": 155,
     "metadata": {},
     "output_type": "execute_result"
    }
   ],
   "source": [
    "components.shape"
   ]
  },
  {
   "cell_type": "code",
   "execution_count": 156,
   "id": "d0f310f2",
   "metadata": {},
   "outputs": [],
   "source": [
    "fa_recon = br_fa.reconstruct()"
   ]
  },
  {
   "cell_type": "code",
   "execution_count": 157,
   "id": "196cd4d0",
   "metadata": {},
   "outputs": [
    {
     "data": {
      "text/plain": [
       "(100, 640)"
      ]
     },
     "execution_count": 157,
     "metadata": {},
     "output_type": "execute_result"
    }
   ],
   "source": [
    "fa_recon.shape"
   ]
  },
  {
   "cell_type": "markdown",
   "id": "2503c468",
   "metadata": {},
   "source": [
    "### PCA 4"
   ]
  },
  {
   "cell_type": "code",
   "execution_count": 137,
   "id": "9501f653",
   "metadata": {},
   "outputs": [],
   "source": [
    "num_dimen = 4\n",
    "variance, pearson_r_p, rand_pearson_r_p = r_calculator(num_dimen, \"PCA\")"
   ]
  },
  {
   "cell_type": "code",
   "execution_count": 142,
   "id": "5a64952a",
   "metadata": {},
   "outputs": [],
   "source": [
    "threshold = 0.05/72"
   ]
  },
  {
   "cell_type": "code",
   "execution_count": 138,
   "id": "92c49aee",
   "metadata": {},
   "outputs": [
    {
     "data": {
      "text/plain": [
       "array([[0.   , 0.005, 0.   , 0.   , 0.56 , 0.013, 0.   , 0.   , 0.   ,\n",
       "        0.015, 0.029, 0.033, 0.   , 0.   , 0.004, 0.   , 0.402, 0.   ],\n",
       "       [0.001, 0.992, 0.475, 0.017, 0.086, 0.06 , 0.287, 0.196, 0.019,\n",
       "        0.543, 0.   , 0.004, 0.   , 0.001, 0.   , 0.   , 0.004, 0.117],\n",
       "       [0.   , 0.   , 0.052, 0.535, 0.   , 0.   , 0.   , 0.005, 0.   ,\n",
       "        0.   , 0.006, 0.008, 0.122, 0.545, 0.006, 0.   , 0.808, 0.044],\n",
       "       [0.   , 0.   , 0.   , 0.   , 0.001, 0.029, 0.   , 0.   , 0.   ,\n",
       "        0.   , 0.631, 0.394, 0.117, 0.175, 0.111, 0.13 , 0.   , 0.708]])"
      ]
     },
     "execution_count": 138,
     "metadata": {},
     "output_type": "execute_result"
    }
   ],
   "source": [
    "p_value_p = p_value_calculator(pearson_r_p, rand_pearson_r_p)\n",
    "p_value_p"
   ]
  },
  {
   "cell_type": "code",
   "execution_count": 144,
   "id": "1db75ebc",
   "metadata": {},
   "outputs": [
    {
     "data": {
      "text/plain": [
       "array([[ True, False,  True,  True, False, False,  True,  True,  True,\n",
       "        False, False, False,  True,  True, False,  True, False,  True],\n",
       "       [False, False, False, False, False, False, False, False, False,\n",
       "        False,  True, False,  True, False,  True,  True, False, False],\n",
       "       [ True,  True, False, False,  True,  True,  True, False,  True,\n",
       "         True, False, False, False, False, False,  True, False, False],\n",
       "       [ True,  True,  True,  True, False, False,  True,  True,  True,\n",
       "         True, False, False, False, False, False, False,  True, False]])"
      ]
     },
     "execution_count": 144,
     "metadata": {},
     "output_type": "execute_result"
    }
   ],
   "source": [
    "p_value_p<threshold"
   ]
  },
  {
   "cell_type": "code",
   "execution_count": 139,
   "id": "7e16b894",
   "metadata": {},
   "outputs": [
    {
     "data": {
      "text/plain": [
       "array([[0.73804601, 0.76421547, 0.87109298, 0.84874323, 0.72755013,\n",
       "        0.67563157, 0.84344684, 0.84353061, 0.94133231, 0.86767076,\n",
       "        0.65009505, 0.59106565, 0.82935311, 0.85396925, 0.76684391,\n",
       "        0.80830785, 0.83701292, 0.85033747],\n",
       "       [0.10123924, 0.0703146 , 0.04776187, 0.06130092, 0.11405101,\n",
       "        0.13725744, 0.05110514, 0.04921218, 0.01472048, 0.01993705,\n",
       "        0.06131287, 0.06795125, 0.04367957, 0.02999389, 0.08056223,\n",
       "        0.0745292 , 0.07623248, 0.07027476],\n",
       "       [0.05770151, 0.04007991, 0.02394846, 0.02744556, 0.03280103,\n",
       "        0.0352491 , 0.03160905, 0.03113239, 0.00896477, 0.01697946,\n",
       "        0.03079343, 0.03570471, 0.02103618, 0.02225183, 0.04823827,\n",
       "        0.03859944, 0.03238472, 0.02542133],\n",
       "       [0.02392072, 0.03332595, 0.01548853, 0.01895684, 0.02217662,\n",
       "        0.02673927, 0.02235372, 0.02152556, 0.0059033 , 0.01260609,\n",
       "        0.02829522, 0.02944844, 0.01903303, 0.01572072, 0.02842006,\n",
       "        0.02211408, 0.02311252, 0.02007375]])"
      ]
     },
     "execution_count": 139,
     "metadata": {},
     "output_type": "execute_result"
    }
   ],
   "source": [
    "variance"
   ]
  },
  {
   "cell_type": "code",
   "execution_count": 140,
   "id": "18d9b18b",
   "metadata": {},
   "outputs": [
    {
     "data": {
      "text/plain": [
       "[<matplotlib.lines.Line2D at 0x7fd3a27df3d0>,\n",
       " <matplotlib.lines.Line2D at 0x7fd3a27df8e0>,\n",
       " <matplotlib.lines.Line2D at 0x7fd3a27dfd00>,\n",
       " <matplotlib.lines.Line2D at 0x7fd3a27df3a0>]"
      ]
     },
     "execution_count": 140,
     "metadata": {},
     "output_type": "execute_result"
    },
    {
     "data": {
      "image/png": "[encoded data removed]",
      "text/plain": [
       "<Figure size 432x288 with 1 Axes>"
      ]
     },
     "metadata": {
      "needs_background": "light"
     },
     "output_type": "display_data"
    }
   ],
   "source": [
    "plt.plot(variance.T)"
   ]
  },
  {
   "cell_type": "code",
   "execution_count": 141,
   "id": "90c6efca",
   "metadata": {},
   "outputs": [
    {
     "data": {
      "image/png": "[encoded data removed]",
      "text/plain": [
       "<Figure size 432x288 with 1 Axes>"
      ]
     },
     "metadata": {
      "needs_background": "light"
     },
     "output_type": "display_data"
    }
   ],
   "source": [
    "r_plotter(bundle_name, pearson_r_p, num_dimen)"
   ]
  },
  {
   "cell_type": "code",
   "execution_count": 124,
   "id": "45a42d2f",
   "metadata": {},
   "outputs": [
    {
     "data": {
      "text/plain": [
       "0.0006944444444444445"
      ]
     },
     "execution_count": 124,
     "metadata": {},
     "output_type": "execute_result"
    }
   ],
   "source": [
    "0.05/72 # conservative"
   ]
  },
  {
   "cell_type": "code",
   "execution_count": 81,
   "id": "21d76bcc",
   "metadata": {},
   "outputs": [],
   "source": [
    "pd = pd.DataFrame(p_value_p, columns = bundle_name)"
   ]
  },
  {
   "cell_type": "code",
   "execution_count": 82,
   "id": "d6e34b69",
   "metadata": {},
   "outputs": [
    {
     "data": {
      "text/html": [
       "<div>\n",
       "<style scoped>\n",
       "    .dataframe tbody tr th:only-of-type {\n",
       "        vertical-align: middle;\n",
       "    }\n",
       "\n",
       "    .dataframe tbody tr th {\n",
       "        vertical-align: top;\n",
       "    }\n",
       "\n",
       "    .dataframe thead th {\n",
       "        text-align: right;\n",
       "    }\n",
       "</style>\n",
       "<table border=\"1\" class=\"dataframe\">\n",
       "  <thead>\n",
       "    <tr style=\"text-align: right;\">\n",
       "      <th></th>\n",
       "      <th>ARC_L</th>\n",
       "      <th>ARC_R</th>\n",
       "      <th>ATR_L</th>\n",
       "      <th>ATR_R</th>\n",
       "      <th>CGC_L</th>\n",
       "      <th>CGC_R</th>\n",
       "      <th>CST_L</th>\n",
       "      <th>CST_R</th>\n",
       "      <th>FA</th>\n",
       "      <th>FP</th>\n",
       "      <th>IFO_L</th>\n",
       "      <th>IFO_R</th>\n",
       "      <th>ILF_L</th>\n",
       "      <th>ILF_R</th>\n",
       "      <th>SLF_L</th>\n",
       "      <th>SLF_R</th>\n",
       "      <th>UNC_L</th>\n",
       "      <th>UNC_R</th>\n",
       "    </tr>\n",
       "  </thead>\n",
       "  <tbody>\n",
       "    <tr>\n",
       "      <th>0</th>\n",
       "      <td>0.0</td>\n",
       "      <td>0.002</td>\n",
       "      <td>1.000</td>\n",
       "      <td>1.000</td>\n",
       "      <td>0.726</td>\n",
       "      <td>0.991</td>\n",
       "      <td>1.000</td>\n",
       "      <td>1.000</td>\n",
       "      <td>1.000</td>\n",
       "      <td>0.988</td>\n",
       "      <td>0.016</td>\n",
       "      <td>0.016</td>\n",
       "      <td>0.000</td>\n",
       "      <td>0.000</td>\n",
       "      <td>0.000</td>\n",
       "      <td>0.000</td>\n",
       "      <td>0.798</td>\n",
       "      <td>0.001</td>\n",
       "    </tr>\n",
       "    <tr>\n",
       "      <th>1</th>\n",
       "      <td>1.0</td>\n",
       "      <td>0.529</td>\n",
       "      <td>0.239</td>\n",
       "      <td>0.008</td>\n",
       "      <td>0.028</td>\n",
       "      <td>0.033</td>\n",
       "      <td>0.864</td>\n",
       "      <td>0.899</td>\n",
       "      <td>0.008</td>\n",
       "      <td>0.742</td>\n",
       "      <td>0.000</td>\n",
       "      <td>1.000</td>\n",
       "      <td>0.000</td>\n",
       "      <td>1.000</td>\n",
       "      <td>0.000</td>\n",
       "      <td>0.000</td>\n",
       "      <td>0.998</td>\n",
       "      <td>0.078</td>\n",
       "    </tr>\n",
       "    <tr>\n",
       "      <th>2</th>\n",
       "      <td>1.0</td>\n",
       "      <td>0.000</td>\n",
       "      <td>0.969</td>\n",
       "      <td>0.761</td>\n",
       "      <td>0.000</td>\n",
       "      <td>0.000</td>\n",
       "      <td>1.000</td>\n",
       "      <td>1.000</td>\n",
       "      <td>1.000</td>\n",
       "      <td>1.000</td>\n",
       "      <td>0.004</td>\n",
       "      <td>0.997</td>\n",
       "      <td>0.949</td>\n",
       "      <td>0.306</td>\n",
       "      <td>0.996</td>\n",
       "      <td>0.000</td>\n",
       "      <td>0.384</td>\n",
       "      <td>0.026</td>\n",
       "    </tr>\n",
       "    <tr>\n",
       "      <th>3</th>\n",
       "      <td>0.0</td>\n",
       "      <td>0.001</td>\n",
       "      <td>0.000</td>\n",
       "      <td>0.000</td>\n",
       "      <td>0.999</td>\n",
       "      <td>0.019</td>\n",
       "      <td>0.000</td>\n",
       "      <td>0.000</td>\n",
       "      <td>0.000</td>\n",
       "      <td>1.000</td>\n",
       "      <td>0.281</td>\n",
       "      <td>0.813</td>\n",
       "      <td>0.049</td>\n",
       "      <td>0.103</td>\n",
       "      <td>0.955</td>\n",
       "      <td>0.926</td>\n",
       "      <td>0.000</td>\n",
       "      <td>0.650</td>\n",
       "    </tr>\n",
       "  </tbody>\n",
       "</table>\n",
       "</div>"
      ],
      "text/plain": [
       "   ARC_L  ARC_R  ATR_L  ATR_R  CGC_L  CGC_R  CST_L  CST_R     FA     FP  \\\n",
       "0    0.0  0.002  1.000  1.000  0.726  0.991  1.000  1.000  1.000  0.988   \n",
       "1    1.0  0.529  0.239  0.008  0.028  0.033  0.864  0.899  0.008  0.742   \n",
       "2    1.0  0.000  0.969  0.761  0.000  0.000  1.000  1.000  1.000  1.000   \n",
       "3    0.0  0.001  0.000  0.000  0.999  0.019  0.000  0.000  0.000  1.000   \n",
       "\n",
       "   IFO_L  IFO_R  ILF_L  ILF_R  SLF_L  SLF_R  UNC_L  UNC_R  \n",
       "0  0.016  0.016  0.000  0.000  0.000  0.000  0.798  0.001  \n",
       "1  0.000  1.000  0.000  1.000  0.000  0.000  0.998  0.078  \n",
       "2  0.004  0.997  0.949  0.306  0.996  0.000  0.384  0.026  \n",
       "3  0.281  0.813  0.049  0.103  0.955  0.926  0.000  0.650  "
      ]
     },
     "execution_count": 82,
     "metadata": {},
     "output_type": "execute_result"
    }
   ],
   "source": [
    "pd"
   ]
  },
  {
   "cell_type": "markdown",
   "id": "2d910266",
   "metadata": {},
   "source": [
    "pca 3"
   ]
  },
  {
   "cell_type": "code",
   "execution_count": 112,
   "id": "3d3e89a0",
   "metadata": {},
   "outputs": [],
   "source": [
    "num_dimen = 3\n",
    "pearson_r_p, rand_pearson_r_p = r_calculator(num_dimen, \"PCA\")"
   ]
  },
  {
   "cell_type": "code",
   "execution_count": 113,
   "id": "db63009e",
   "metadata": {},
   "outputs": [
    {
     "data": {
      "text/plain": [
       "array([[0.   , 0.005, 1.   , 1.   , 0.703, 0.991, 1.   , 1.   , 1.   ,\n",
       "        0.989, 0.011, 0.013, 0.   , 0.   , 0.   , 0.   , 0.797, 0.001],\n",
       "       [1.   , 0.504, 0.236, 0.012, 0.033, 0.03 , 0.846, 0.912, 0.009,\n",
       "        0.738, 0.   , 0.999, 0.   , 1.   , 0.   , 0.   , 0.999, 0.059],\n",
       "       [1.   , 0.   , 0.983, 0.768, 0.   , 0.   , 1.   , 0.997, 1.   ,\n",
       "        1.   , 0.001, 0.995, 0.947, 0.307, 0.998, 0.   , 0.414, 0.019]])"
      ]
     },
     "execution_count": 113,
     "metadata": {},
     "output_type": "execute_result"
    }
   ],
   "source": [
    "p_value_p = p_value_calculator(pearson_r_p, rand_pearson_r_p)\n",
    "p_value_p"
   ]
  },
  {
   "cell_type": "code",
   "execution_count": 114,
   "id": "4460f069",
   "metadata": {},
   "outputs": [
    {
     "data": {
      "image/png": "[encoded data removed]",
      "text/plain": [
       "<Figure size 432x288 with 1 Axes>"
      ]
     },
     "metadata": {
      "needs_background": "light"
     },
     "output_type": "display_data"
    }
   ],
   "source": [
    "r_plotter(bundle_name, pearson_r_p, num_dimen)"
   ]
  },
  {
   "cell_type": "code",
   "execution_count": 115,
   "id": "264971cf",
   "metadata": {},
   "outputs": [
    {
     "ename": "AttributeError",
     "evalue": "'DataFrame' object has no attribute 'DataFrame'",
     "output_type": "error",
     "traceback": [
      "\u001b[0;31m---------------------------------------------------------------------------\u001b[0m",
      "\u001b[0;31mAttributeError\u001b[0m                            Traceback (most recent call last)",
      "\u001b[0;32m<ipython-input-115-131168d27ca5>\u001b[0m in \u001b[0;36m<module>\u001b[0;34m\u001b[0m\n\u001b[0;32m----> 1\u001b[0;31m \u001b[0mdf\u001b[0m \u001b[0;34m=\u001b[0m \u001b[0mpd\u001b[0m\u001b[0;34m.\u001b[0m\u001b[0mDataFrame\u001b[0m\u001b[0;34m(\u001b[0m\u001b[0mp_value_p\u001b[0m\u001b[0;34m,\u001b[0m \u001b[0mcolumns\u001b[0m \u001b[0;34m=\u001b[0m \u001b[0mbundle_name\u001b[0m\u001b[0;34m)\u001b[0m\u001b[0;34m\u001b[0m\u001b[0;34m\u001b[0m\u001b[0m\n\u001b[0m",
      "\u001b[0;32m~/opt/anaconda3/lib/python3.8/site-packages/pandas/core/generic.py\u001b[0m in \u001b[0;36m__getattr__\u001b[0;34m(self, name)\u001b[0m\n\u001b[1;32m   5573\u001b[0m         ):\n\u001b[1;32m   5574\u001b[0m             \u001b[0;32mreturn\u001b[0m \u001b[0mself\u001b[0m\u001b[0;34m[\u001b[0m\u001b[0mname\u001b[0m\u001b[0;34m]\u001b[0m\u001b[0;34m\u001b[0m\u001b[0;34m\u001b[0m\u001b[0m\n\u001b[0;32m-> 5575\u001b[0;31m         \u001b[0;32mreturn\u001b[0m \u001b[0mobject\u001b[0m\u001b[0;34m.\u001b[0m\u001b[0m__getattribute__\u001b[0m\u001b[0;34m(\u001b[0m\u001b[0mself\u001b[0m\u001b[0;34m,\u001b[0m \u001b[0mname\u001b[0m\u001b[0;34m)\u001b[0m\u001b[0;34m\u001b[0m\u001b[0;34m\u001b[0m\u001b[0m\n\u001b[0m\u001b[1;32m   5576\u001b[0m \u001b[0;34m\u001b[0m\u001b[0m\n\u001b[1;32m   5577\u001b[0m     \u001b[0;32mdef\u001b[0m \u001b[0m__setattr__\u001b[0m\u001b[0;34m(\u001b[0m\u001b[0mself\u001b[0m\u001b[0;34m,\u001b[0m \u001b[0mname\u001b[0m\u001b[0;34m:\u001b[0m \u001b[0mstr\u001b[0m\u001b[0;34m,\u001b[0m \u001b[0mvalue\u001b[0m\u001b[0;34m)\u001b[0m \u001b[0;34m->\u001b[0m \u001b[0;32mNone\u001b[0m\u001b[0;34m:\u001b[0m\u001b[0;34m\u001b[0m\u001b[0;34m\u001b[0m\u001b[0m\n",
      "\u001b[0;31mAttributeError\u001b[0m: 'DataFrame' object has no attribute 'DataFrame'"
     ]
    }
   ],
   "source": [
    "df = pd.DataFrame(p_value_p, columns = bundle_name)"
   ]
  },
  {
   "cell_type": "markdown",
   "id": "4a7bb77f",
   "metadata": {},
   "source": [
    "nmf, 3"
   ]
  },
  {
   "cell_type": "code",
   "execution_count": 22,
   "id": "b7cce12e",
   "metadata": {},
   "outputs": [],
   "source": [
    "\n"
   ]
  },
  {
   "cell_type": "code",
   "execution_count": 116,
   "id": "b6f6515c",
   "metadata": {
    "scrolled": true
   },
   "outputs": [
    {
     "name": "stderr",
     "output_type": "stream",
     "text": [
      "/Users/tiffany/opt/anaconda3/lib/python3.8/site-packages/sklearn/decomposition/_nmf.py:1076: ConvergenceWarning: Maximum number of iterations 200 reached. Increase it to improve convergence.\n",
      "  warnings.warn(\"Maximum number of iterations %d reached. Increase it to\"\n",
      "/Users/tiffany/opt/anaconda3/lib/python3.8/site-packages/sklearn/decomposition/_nmf.py:1076: ConvergenceWarning: Maximum number of iterations 200 reached. Increase it to improve convergence.\n",
      "  warnings.warn(\"Maximum number of iterations %d reached. Increase it to\"\n",
      "/Users/tiffany/opt/anaconda3/lib/python3.8/site-packages/sklearn/decomposition/_nmf.py:1076: ConvergenceWarning: Maximum number of iterations 200 reached. Increase it to improve convergence.\n",
      "  warnings.warn(\"Maximum number of iterations %d reached. Increase it to\"\n",
      "/Users/tiffany/opt/anaconda3/lib/python3.8/site-packages/sklearn/decomposition/_nmf.py:1076: ConvergenceWarning: Maximum number of iterations 200 reached. Increase it to improve convergence.\n",
      "  warnings.warn(\"Maximum number of iterations %d reached. Increase it to\"\n",
      "/Users/tiffany/opt/anaconda3/lib/python3.8/site-packages/sklearn/decomposition/_nmf.py:1076: ConvergenceWarning: Maximum number of iterations 200 reached. Increase it to improve convergence.\n",
      "  warnings.warn(\"Maximum number of iterations %d reached. Increase it to\"\n",
      "/Users/tiffany/opt/anaconda3/lib/python3.8/site-packages/sklearn/decomposition/_nmf.py:1076: ConvergenceWarning: Maximum number of iterations 200 reached. Increase it to improve convergence.\n",
      "  warnings.warn(\"Maximum number of iterations %d reached. Increase it to\"\n",
      "/Users/tiffany/opt/anaconda3/lib/python3.8/site-packages/sklearn/decomposition/_nmf.py:1076: ConvergenceWarning: Maximum number of iterations 200 reached. Increase it to improve convergence.\n",
      "  warnings.warn(\"Maximum number of iterations %d reached. Increase it to\"\n",
      "/Users/tiffany/opt/anaconda3/lib/python3.8/site-packages/sklearn/decomposition/_nmf.py:1076: ConvergenceWarning: Maximum number of iterations 200 reached. Increase it to improve convergence.\n",
      "  warnings.warn(\"Maximum number of iterations %d reached. Increase it to\"\n",
      "/Users/tiffany/opt/anaconda3/lib/python3.8/site-packages/sklearn/decomposition/_nmf.py:1076: ConvergenceWarning: Maximum number of iterations 200 reached. Increase it to improve convergence.\n",
      "  warnings.warn(\"Maximum number of iterations %d reached. Increase it to\"\n",
      "/Users/tiffany/opt/anaconda3/lib/python3.8/site-packages/sklearn/decomposition/_nmf.py:1076: ConvergenceWarning: Maximum number of iterations 200 reached. Increase it to improve convergence.\n",
      "  warnings.warn(\"Maximum number of iterations %d reached. Increase it to\"\n",
      "/Users/tiffany/opt/anaconda3/lib/python3.8/site-packages/sklearn/decomposition/_nmf.py:1076: ConvergenceWarning: Maximum number of iterations 200 reached. Increase it to improve convergence.\n",
      "  warnings.warn(\"Maximum number of iterations %d reached. Increase it to\"\n",
      "/Users/tiffany/opt/anaconda3/lib/python3.8/site-packages/sklearn/decomposition/_nmf.py:1076: ConvergenceWarning: Maximum number of iterations 200 reached. Increase it to improve convergence.\n",
      "  warnings.warn(\"Maximum number of iterations %d reached. Increase it to\"\n",
      "/Users/tiffany/opt/anaconda3/lib/python3.8/site-packages/sklearn/decomposition/_nmf.py:1076: ConvergenceWarning: Maximum number of iterations 200 reached. Increase it to improve convergence.\n",
      "  warnings.warn(\"Maximum number of iterations %d reached. Increase it to\"\n",
      "/Users/tiffany/opt/anaconda3/lib/python3.8/site-packages/sklearn/decomposition/_nmf.py:1076: ConvergenceWarning: Maximum number of iterations 200 reached. Increase it to improve convergence.\n",
      "  warnings.warn(\"Maximum number of iterations %d reached. Increase it to\"\n",
      "/Users/tiffany/opt/anaconda3/lib/python3.8/site-packages/sklearn/decomposition/_nmf.py:1076: ConvergenceWarning: Maximum number of iterations 200 reached. Increase it to improve convergence.\n",
      "  warnings.warn(\"Maximum number of iterations %d reached. Increase it to\"\n",
      "/Users/tiffany/opt/anaconda3/lib/python3.8/site-packages/sklearn/decomposition/_nmf.py:1076: ConvergenceWarning: Maximum number of iterations 200 reached. Increase it to improve convergence.\n",
      "  warnings.warn(\"Maximum number of iterations %d reached. Increase it to\"\n",
      "/Users/tiffany/opt/anaconda3/lib/python3.8/site-packages/sklearn/decomposition/_nmf.py:1076: ConvergenceWarning: Maximum number of iterations 200 reached. Increase it to improve convergence.\n",
      "  warnings.warn(\"Maximum number of iterations %d reached. Increase it to\"\n",
      "/Users/tiffany/opt/anaconda3/lib/python3.8/site-packages/sklearn/decomposition/_nmf.py:1076: ConvergenceWarning: Maximum number of iterations 200 reached. Increase it to improve convergence.\n",
      "  warnings.warn(\"Maximum number of iterations %d reached. Increase it to\"\n"
     ]
    },
    {
     "data": {
      "text/plain": [
       "array([[0.965, 1.   , 0.   , 1.   , 0.146, 0.   , 0.   , 1.   , 0.857,\n",
       "        0.   , 1.   , 1.   , 1.   , 1.   , 1.   , 0.972, 0.299, 0.997],\n",
       "       [1.   , 0.142, 1.   , 1.   , 1.   , 1.   , 0.989, 0.746, 1.   ,\n",
       "        1.   , 0.915, 0.997, 0.001, 0.414, 0.771, 1.   , 1.   , 0.995],\n",
       "       [0.122, 0.021, 0.438, 0.   , 0.631, 0.73 , 1.   , 0.006, 0.   ,\n",
       "        1.   , 0.057, 0.376, 1.   , 0.861, 0.06 , 0.66 , 0.007, 0.622]])"
      ]
     },
     "execution_count": 116,
     "metadata": {},
     "output_type": "execute_result"
    }
   ],
   "source": [
    "num_dimen = 3\n",
    "pearson_r_n, rand_pearson_r_n = r_calculator(num_dimen, \"NMF\")\n",
    "p_value_n = p_value_calculator(pearson_r_n, rand_pearson_r_n)\n",
    "p_value_n"
   ]
  },
  {
   "cell_type": "code",
   "execution_count": 123,
   "id": "e7d1fbed",
   "metadata": {},
   "outputs": [
    {
     "ename": "AttributeError",
     "evalue": "'DataFrame' object has no attribute 'DataFrame'",
     "output_type": "error",
     "traceback": [
      "\u001b[0;31m---------------------------------------------------------------------------\u001b[0m",
      "\u001b[0;31mAttributeError\u001b[0m                            Traceback (most recent call last)",
      "\u001b[0;32m<ipython-input-123-e8fef035575e>\u001b[0m in \u001b[0;36m<module>\u001b[0;34m\u001b[0m\n\u001b[0;32m----> 1\u001b[0;31m \u001b[0mdf\u001b[0m \u001b[0;34m=\u001b[0m \u001b[0mpd\u001b[0m\u001b[0;34m.\u001b[0m\u001b[0mDataFrame\u001b[0m\u001b[0;34m(\u001b[0m\u001b[0mp_value_n\u001b[0m\u001b[0;34m,\u001b[0m \u001b[0mcolumns\u001b[0m \u001b[0;34m=\u001b[0m \u001b[0mbundle_name\u001b[0m\u001b[0;34m)\u001b[0m\u001b[0;34m\u001b[0m\u001b[0;34m\u001b[0m\u001b[0m\n\u001b[0m",
      "\u001b[0;32m~/opt/anaconda3/lib/python3.8/site-packages/pandas/core/generic.py\u001b[0m in \u001b[0;36m__getattr__\u001b[0;34m(self, name)\u001b[0m\n\u001b[1;32m   5573\u001b[0m         ):\n\u001b[1;32m   5574\u001b[0m             \u001b[0;32mreturn\u001b[0m \u001b[0mself\u001b[0m\u001b[0;34m[\u001b[0m\u001b[0mname\u001b[0m\u001b[0;34m]\u001b[0m\u001b[0;34m\u001b[0m\u001b[0;34m\u001b[0m\u001b[0m\n\u001b[0;32m-> 5575\u001b[0;31m         \u001b[0;32mreturn\u001b[0m \u001b[0mobject\u001b[0m\u001b[0;34m.\u001b[0m\u001b[0m__getattribute__\u001b[0m\u001b[0;34m(\u001b[0m\u001b[0mself\u001b[0m\u001b[0;34m,\u001b[0m \u001b[0mname\u001b[0m\u001b[0;34m)\u001b[0m\u001b[0;34m\u001b[0m\u001b[0;34m\u001b[0m\u001b[0m\n\u001b[0m\u001b[1;32m   5576\u001b[0m \u001b[0;34m\u001b[0m\u001b[0m\n\u001b[1;32m   5577\u001b[0m     \u001b[0;32mdef\u001b[0m \u001b[0m__setattr__\u001b[0m\u001b[0;34m(\u001b[0m\u001b[0mself\u001b[0m\u001b[0;34m,\u001b[0m \u001b[0mname\u001b[0m\u001b[0;34m:\u001b[0m \u001b[0mstr\u001b[0m\u001b[0;34m,\u001b[0m \u001b[0mvalue\u001b[0m\u001b[0;34m)\u001b[0m \u001b[0;34m->\u001b[0m \u001b[0;32mNone\u001b[0m\u001b[0;34m:\u001b[0m\u001b[0;34m\u001b[0m\u001b[0;34m\u001b[0m\u001b[0m\n",
      "\u001b[0;31mAttributeError\u001b[0m: 'DataFrame' object has no attribute 'DataFrame'"
     ]
    }
   ],
   "source": [
    "df = pd.DataFrame(p_value_n, columns = bundle_name)"
   ]
  },
  {
   "cell_type": "code",
   "execution_count": 122,
   "id": "ae502c99",
   "metadata": {},
   "outputs": [
    {
     "data": {
      "image/png": "[encoded data removed]",
      "text/plain": [
       "<Figure size 432x288 with 1 Axes>"
      ]
     },
     "metadata": {
      "needs_background": "light"
     },
     "output_type": "display_data"
    }
   ],
   "source": [
    "r_plotter(bundle_name, pearson_r_n, num_dimen)"
   ]
  },
  {
   "cell_type": "code",
   "execution_count": 44,
   "id": "93af70b7",
   "metadata": {},
   "outputs": [
    {
     "data": {
      "text/plain": [
       "array([[0.518, 0.514, 0.481, 0.542, 0.508, 0.494, 0.496, 0.499, 0.484,\n",
       "        0.483, 0.496, 0.515, 0.486, 0.517, 0.498, 0.503, 0.485, 0.474],\n",
       "       [0.488, 0.511, 0.503, 0.511, 0.514, 0.476, 0.483, 0.489, 0.507,\n",
       "        0.508, 0.51 , 0.493, 0.501, 0.487, 0.507, 0.497, 0.513, 0.494],\n",
       "       [0.481, 0.518, 0.484, 0.505, 0.475, 0.484, 0.511, 0.495, 0.486,\n",
       "        0.507, 0.5  , 0.489, 0.496, 0.525, 0.488, 0.529, 0.511, 0.51 ]])"
      ]
     },
     "execution_count": 44,
     "metadata": {},
     "output_type": "execute_result"
    }
   ],
   "source": [
    "p_value\n"
   ]
  },
  {
   "cell_type": "code",
   "execution_count": null,
   "id": "919ac736",
   "metadata": {},
   "outputs": [],
   "source": [
    "pearson_r_n"
   ]
  },
  {
   "cell_type": "code",
   "execution_count": null,
   "id": "6c5ac190",
   "metadata": {},
   "outputs": [],
   "source": [
    "df = pd."
   ]
  },
  {
   "cell_type": "code",
   "execution_count": null,
   "id": "96dcff13",
   "metadata": {},
   "outputs": [],
   "source": [
    "sq_pearson_n = pearson_r_n**2"
   ]
  },
  {
   "cell_type": "code",
   "execution_count": null,
   "id": "2ca915e6",
   "metadata": {},
   "outputs": [],
   "source": [
    "plt.hist(sq_pearson_n[1, :])"
   ]
  },
  {
   "cell_type": "code",
   "execution_count": null,
   "id": "c7d71c0c",
   "metadata": {},
   "outputs": [],
   "source": []
  }
 ],
 "metadata": {
  "kernelspec": {
   "display_name": "Python 3",
   "language": "python",
   "name": "python3"
  },
  "language_info": {
   "codemirror_mode": {
    "name": "ipython",
    "version": 3
   },
   "file_extension": ".py",
   "mimetype": "text/x-python",
   "name": "python",
   "nbconvert_exporter": "python",
   "pygments_lexer": "ipython3",
   "version": "3.8.10"
  }
 },
 "nbformat": 4,
 "nbformat_minor": 5
}
