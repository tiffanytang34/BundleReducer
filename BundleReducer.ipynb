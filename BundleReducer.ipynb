{
 "cells": [
  {
   "cell_type": "code",
   "execution_count": null,
   "metadata": {},
   "outputs": [],
   "source": [
    "from sklearn.decomposition import PCA\n",
    "from sklearn.decomposition import NMF\n",
    "from sklearn.preprocessing import StandardScaler\n",
    "from sklearn.impute import SimpleImputer\n",
    "from sklearn.base import BaseEstimator\n",
    "from sklearn.utils.validation import check_is_fitted\n",
    "import matplotlib.pyplot as plt\n",
    "import numpy as np"
   ]
  },
  {
   "cell_type": "code",
   "execution_count": null,
   "metadata": {},
   "outputs": [],
   "source": [
    "\n",
    "class BundleReducer(BaseEstimator):\n",
    "    def __init__(self, \n",
    "                 reduction_type,\n",
    "                 ndimensions):\n",
    "        self.reduction_type = reduction_type # case-insensitive\n",
    "        self.ndimensions = ndimensions\n",
    "        #check_is_fitted = False\n",
    "        #self.model = self.fit(X)\n",
    "        \n",
    "    def print_ndimensions(self):\n",
    "        print(\"The number of dimensions is\", ndimensions)\n",
    "        \n",
    "    def impute(self, X):\n",
    "        imputer = SimpleImputer()\n",
    "        self.data_imp_ = imputer.fit_transform(X)\n",
    "    \n",
    "    def fit(self, X):\n",
    "        if self.reduction_type.lower() == \"nmf\":\n",
    "            nmf = NMF(n_components=self.ndimensions, init='random', random_state=0)\n",
    "            self.model_ =  nmf.fit_transform(self.data_imp_)\n",
    "            self.components_ = nmf.components_\n",
    "            \n",
    "        elif self.reduction_type.lower() == \"pca\" :\n",
    "            pca = PCA(n_components=self.ndimensions)\n",
    "            self.model_ =  pca.fit_transform(data_imp)\n",
    "            self.components_ = pca.components_\n",
    "       \n",
    "        return self\n",
    "\n",
    "            \n",
    "    def reconstruct(self): \n",
    "        #[x, H] = model;\n",
    "        check_is_fitted(self, 'components_')\n",
    "        reconstruction = self.model_@self.components_;\n",
    "        return reconstruction\n",
    "    \n",
    "    def plot_comparison(self):\n",
    "        fig, ax = plt.subplots();\n",
    "        recon = self.model_@self.components_;\n",
    "        mean = np.mean(recon, axis = 0);\n",
    "        data_mean = np.mean(self.data_imp_, axis = 0);\n",
    "        ax.plot(mean);\n",
    "        ax.plot(data_mean)\n",
    "        \n",
    "    def reconstruction_error(self): \n",
    "#         [x, H] = fit(self, X);\n",
    "#         data_imp = imputer.fit_transform(X);\n",
    "        for i in len(X):\n",
    "            loss = np.sqrt(np.mean(((self.model[i, :]@self.components)-self.data_imp_[i, :])**2))\n",
    "        return loss\n",
    "        # XXX \n",
    "        "
   ]
  },
  {
   "cell_type": "code",
   "execution_count": null,
   "metadata": {},
   "outputs": [],
   "source": [
    "import afqinsight.datasets as ad\n",
    "ad.__file__"
   ]
  },
  {
   "cell_type": "code",
   "execution_count": null,
   "metadata": {},
   "outputs": [],
   "source": [
    "data = ad.load_afq_data(fn_nodes= \"combined_tract_profiles.csv\", fn_subjects=\"participant_data.tsv\", \n",
    "                        unsupervised=True,return_bundle_means=False)"
   ]
  },
  {
   "cell_type": "code",
   "execution_count": null,
   "metadata": {},
   "outputs": [],
   "source": [
    "dki_fa = data.X[:, 0:1800]\n",
    "dki_md = data.X[:, 1801:3600]\n",
    "dti_fa = data.X[:, 0:1800]\n",
    "dki_md = data.X[:, 1801:3600]"
   ]
  },
  {
   "cell_type": "code",
   "execution_count": null,
   "metadata": {},
   "outputs": [],
   "source": [
    "br1 = BundleReducer(\"NMF\", 2)"
   ]
  },
  {
   "cell_type": "code",
   "execution_count": null,
   "metadata": {},
   "outputs": [],
   "source": [
    "br1.impute(dki_fa)\n"
   ]
  },
  {
   "cell_type": "code",
   "execution_count": null,
   "metadata": {},
   "outputs": [],
   "source": [
    "br1.fit(dki_fa)"
   ]
  },
  {
   "cell_type": "code",
   "execution_count": null,
   "metadata": {},
   "outputs": [],
   "source": [
    "rec_dki_fa = br1.reconstruct()"
   ]
  },
  {
   "cell_type": "code",
   "execution_count": null,
   "metadata": {},
   "outputs": [],
   "source": [
    "br1.components_"
   ]
  },
  {
   "cell_type": "code",
   "execution_count": null,
   "metadata": {},
   "outputs": [],
   "source": [
    "br1.plot_comparison()"
   ]
  },
  {
   "cell_type": "code",
   "execution_count": null,
   "metadata": {},
   "outputs": [],
   "source": [
    "error_br1 = br1.reconstruction_error()"
   ]
  },
  {
   "cell_type": "code",
   "execution_count": null,
   "metadata": {},
   "outputs": [],
   "source": [
    "br2 = BundleReducer(\"pca\", 2)\n",
    "br2.impute(dki_fa)\n",
    "br2.fit(dki_fa)"
   ]
  },
  {
   "cell_type": "code",
   "execution_count": null,
   "metadata": {},
   "outputs": [],
   "source": [
    "br2.plot_comparison()"
   ]
  },
  {
   "cell_type": "code",
   "execution_count": null,
   "metadata": {},
   "outputs": [],
   "source": [
    "error_br2 = br2.reconstruction_error()"
   ]
  },
  {
   "cell_type": "code",
   "execution_count": null,
   "metadata": {},
   "outputs": [],
   "source": [
    "# svd spectrum "
   ]
  }
 ],
 "metadata": {
  "kernelspec": {
   "display_name": "Python 3",
   "language": "python",
   "name": "python3"
  },
  "language_info": {
   "codemirror_mode": {
    "name": "ipython",
    "version": 3
   },
   "file_extension": ".py",
   "mimetype": "text/x-python",
   "name": "python",
   "nbconvert_exporter": "python",
   "pygments_lexer": "ipython3",
   "version": "3.8.10"
  }
 },
 "nbformat": 4,
 "nbformat_minor": 4
}
