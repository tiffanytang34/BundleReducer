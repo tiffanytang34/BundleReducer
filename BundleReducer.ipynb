{
 "cells": [
  {
   "cell_type": "code",
   "execution_count": null,
   "metadata": {},
   "outputs": [],
   "source": [
    "from sklearn.decomposition import PCA\n",
    "from sklearn.decomposition import NMF\n",
    "from sklearn.preprocessing import StandardScaler\n",
    "from sklearn.impute import SimpleImputer\n",
    "from sklearn.base import BaseEstimator\n",
    "from sklearn.utils.validation import check_is_fitted\n",
    "import matplotlib.pyplot as plt\n",
    "import numpy as np"
   ]
  },
  {
   "cell_type": "code",
   "execution_count": null,
   "metadata": {},
   "outputs": [],
   "source": [
    "\n",
    "class BundleReducer(BaseEstimator):\n",
    "    def __init__(self, \n",
    "                 reduction_type,\n",
    "                 ndimensions):\n",
    "        self.reduction_type = reduction_type # case-insensitive\n",
    "        self.ndimensions = ndimensions\n",
    "        #check_is_fitted = False\n",
    "        #self.model = self.fit(X)\n",
    "        \n",
    "    def print_ndimensions(self):\n",
    "        print(\"The number of dimensions is\", ndimensions)\n",
    "        \n",
    "    def impute(self, X):\n",
    "        imputer = SimpleImputer()\n",
    "        self.data_imp_ = imputer.fit_transform(X)\n",
    "    \n",
    "    def fit(self, X):\n",
    "        clf = self.reduction_type.lower();\n",
    "        \n",
    "        if clf == \"nmf\":\n",
    "            self.clf_ = NMF(n_components=self.ndimensions, init='random', random_state=0)\n",
    "        elif clf == \"pca\" :\n",
    "            self.clf_ = PCA(n_components=self.ndimensions)\n",
    "            \n",
    "        self.model_ =  self.clf_.fit_transform(self.data_imp_)\n",
    "        self.components_ = self.clf_.components_\n",
    "       \n",
    "        return self\n",
    "\n",
    "            \n",
    "    def reconstruct(self): \n",
    "        #[x, H] = model;\n",
    "        check_is_fitted(self, 'components_')\n",
    "        # self.recon_ = self.model_@self.components_;\n",
    "        self.recon_ = self.clf_.inverse_transform(self.model_)\n",
    "#         return reconstruction\n",
    "    \n",
    "    def plot_comparison(self):\n",
    "        fig, ax = plt.subplots();\n",
    "#         recon = self.model_@self.components_;\n",
    "        mean = np.mean(self.recon_, axis = 0);\n",
    "        data_mean = np.mean(self.data_imp_, axis = 0);\n",
    "        ax.plot(mean);\n",
    "        ax.plot(data_mean)\n",
    "        \n",
    "    def reconstruction_error(self): \n",
    "\n",
    "        loss = np.zeros(len(self.data_imp_));\n",
    "        for i in range(len(self.data_imp_)):\n",
    "#             loss[i] = np.sqrt(np.mean(((self.recon_[i, :])-self.data_imp_[i, :])**2))\n",
    "             loss[i] = np.sqrt(np.mean(((self.recon_[i, :])-self.data_imp_[i, :])**2))\n",
    "        return loss\n",
    "        # XXX \n",
    "        "
   ]
  },
  {
   "cell_type": "code",
   "execution_count": null,
   "metadata": {},
   "outputs": [],
   "source": [
    "import afqinsight.datasets as ad\n",
    "ad.__file__"
   ]
  },
  {
   "cell_type": "code",
   "execution_count": null,
   "metadata": {},
   "outputs": [],
   "source": [
    "data = ad.load_afq_data(fn_nodes= \"combined_tract_profiles.csv\", fn_subjects=\"participant_data.tsv\", \n",
    "                        unsupervised=True,return_bundle_means=False)"
   ]
  },
  {
   "cell_type": "code",
   "execution_count": null,
   "metadata": {},
   "outputs": [],
   "source": [
    "dki_fa = data.X[:, 0:1800]\n",
    "dki_md = data.X[:, 1801:3600]\n",
    "# dti_fa = data.X[:, 0:1800]\n",
    "# dki_md = data.X[:, 1801:3600]"
   ]
  },
  {
   "cell_type": "markdown",
   "metadata": {},
   "source": [
    "## NMF with 2 dimensions (dki_fa)"
   ]
  },
  {
   "cell_type": "code",
   "execution_count": null,
   "metadata": {},
   "outputs": [],
   "source": [
    "br1 = BundleReducer(\"NMF\", 15)"
   ]
  },
  {
   "cell_type": "code",
   "execution_count": null,
   "metadata": {},
   "outputs": [],
   "source": [
    "br1.impute(dki_fa)\n"
   ]
  },
  {
   "cell_type": "code",
   "execution_count": null,
   "metadata": {},
   "outputs": [],
   "source": [
    "br1.fit(dki_fa)"
   ]
  },
  {
   "cell_type": "code",
   "execution_count": null,
   "metadata": {},
   "outputs": [],
   "source": [
    "rec_dki_fa = br1.reconstruct()"
   ]
  },
  {
   "cell_type": "code",
   "execution_count": null,
   "metadata": {},
   "outputs": [],
   "source": [
    "plt.plot(br1.data_imp_[1, :])\n",
    "plt.plot(br1.recon_[1, :])"
   ]
  },
  {
   "cell_type": "code",
   "execution_count": null,
   "metadata": {},
   "outputs": [],
   "source": [
    "np.sqrt(np.mean((br1.data_imp_[1, :]-br1.recon_[1, :])**2)) # 2"
   ]
  },
  {
   "cell_type": "code",
   "execution_count": null,
   "metadata": {},
   "outputs": [],
   "source": [
    "np.sqrt(np.mean((br1.data_imp_[1, :]-br1.recon_[1, :])**2)) # 5"
   ]
  },
  {
   "cell_type": "code",
   "execution_count": null,
   "metadata": {},
   "outputs": [],
   "source": [
    "np.sqrt(np.mean((br1.data_imp_[1, :]-br1.recon_[1, :])**2)) # 15"
   ]
  },
  {
   "cell_type": "code",
   "execution_count": null,
   "metadata": {},
   "outputs": [],
   "source": [
    "br1.components_"
   ]
  },
  {
   "cell_type": "code",
   "execution_count": null,
   "metadata": {},
   "outputs": [],
   "source": [
    "br1.plot_comparison()"
   ]
  },
  {
   "cell_type": "code",
   "execution_count": null,
   "metadata": {},
   "outputs": [],
   "source": [
    "error_br1 = br1.reconstruction_error()\n",
    "error_br1.shape"
   ]
  },
  {
   "cell_type": "markdown",
   "metadata": {},
   "source": [
    "## NMF with 3 dimensions (dki_fa)"
   ]
  },
  {
   "cell_type": "code",
   "execution_count": null,
   "metadata": {},
   "outputs": [],
   "source": [
    "br3 = BundleReducer(\"nmf\", 3)\n",
    "br3.impute(dki_fa)\n",
    "br3.fit(dki_fa)"
   ]
  },
  {
   "cell_type": "code",
   "execution_count": null,
   "metadata": {},
   "outputs": [],
   "source": [
    "rec_dki_fa = br3.reconstruct()\n",
    "br3.plot_comparison()"
   ]
  },
  {
   "cell_type": "code",
   "execution_count": null,
   "metadata": {},
   "outputs": [],
   "source": [
    "error_br3 = br3.reconstruction_error()\n",
    "np.mean(error_br3)"
   ]
  },
  {
   "cell_type": "markdown",
   "metadata": {},
   "source": [
    "## NMF with 3 dimensions (dki_fa)"
   ]
  },
  {
   "cell_type": "code",
   "execution_count": null,
   "metadata": {},
   "outputs": [],
   "source": [
    "br5 = BundleReducer(\"nmf\", 5)\n",
    "br5.impute(dki_fa)\n",
    "br5.fit(dki_fa)"
   ]
  },
  {
   "cell_type": "code",
   "execution_count": null,
   "metadata": {},
   "outputs": [],
   "source": [
    "rec_dki_fa = br5.reconstruct()\n",
    "br5.plot_comparison()"
   ]
  },
  {
   "cell_type": "markdown",
   "metadata": {},
   "source": [
    "## PCA with 2 dimensions (dki_fa)"
   ]
  },
  {
   "cell_type": "code",
   "execution_count": null,
   "metadata": {},
   "outputs": [],
   "source": [
    "br2 = BundleReducer(\"pca\", 2)\n",
    "br2.impute(dki_fa)\n",
    "br2.fit(dki_fa)\n",
    "rec_dki_fa = br2.reconstruct()"
   ]
  },
  {
   "cell_type": "code",
   "execution_count": null,
   "metadata": {},
   "outputs": [],
   "source": [
    "br2.plot_comparison()"
   ]
  },
  {
   "cell_type": "code",
   "execution_count": null,
   "metadata": {},
   "outputs": [],
   "source": [
    "error_br2 = br2.reconstruction_error()\n",
    "np.mean(error_br2)"
   ]
  },
  {
   "cell_type": "markdown",
   "metadata": {},
   "source": [
    "## PCA with 3 dimensions (dki_fa)"
   ]
  },
  {
   "cell_type": "code",
   "execution_count": null,
   "metadata": {},
   "outputs": [],
   "source": [
    "br4 = BundleReducer(\"pca\", 3)\n",
    "br4.impute(dki_fa)\n",
    "br4.fit(dki_fa)\n",
    "rec_dki_fa = br4.reconstruct()"
   ]
  },
  {
   "cell_type": "code",
   "execution_count": null,
   "metadata": {},
   "outputs": [],
   "source": [
    "br4.plot_comparison()"
   ]
  },
  {
   "cell_type": "code",
   "execution_count": null,
   "metadata": {},
   "outputs": [],
   "source": [
    "error_br4 = br4.reconstruction_error()\n",
    "np.mean(error_br4)"
   ]
  },
  {
   "cell_type": "code",
   "execution_count": null,
   "metadata": {},
   "outputs": [],
   "source": []
  }
 ],
 "metadata": {
  "kernelspec": {
   "display_name": "Python 3",
   "language": "python",
   "name": "python3"
  },
  "language_info": {
   "codemirror_mode": {
    "name": "ipython",
    "version": 3
   },
   "file_extension": ".py",
   "mimetype": "text/x-python",
   "name": "python",
   "nbconvert_exporter": "python",
   "pygments_lexer": "ipython3",
   "version": "3.8.10"
  }
 },
 "nbformat": 4,
 "nbformat_minor": 4
}
