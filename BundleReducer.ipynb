{
 "cells": [
  {
   "cell_type": "code",
   "execution_count": null,
   "metadata": {},
   "outputs": [],
   "source": [
    "from sklearn.decomposition import PCA\n",
    "from sklearn.decomposition import NMF\n",
    "from sklearn.preprocessing import StandardScaler\n",
    "from sklearn.impute import SimpleImputer\n",
    "from sklearn.base import BaseEstimator\n",
    "from sklearn.utils.validation import check_is_fitted\n",
    "import matplotlib.pyplot as plt\n",
    "import numpy as np"
   ]
  },
  {
   "cell_type": "code",
   "execution_count": null,
   "metadata": {},
   "outputs": [],
   "source": [
    "\n",
    "class BundleReducer(BaseEstimator):\n",
    "    def __init__(self, \n",
    "                 reduction_type,\n",
    "                 ndimensions):\n",
    "        self.reduction_type = reduction_type # case-insensitive\n",
    "        self.ndimensions = ndimensions\n",
    "        #check_is_fitted = False\n",
    "        #self.model = self.fit(X)\n",
    "        \n",
    "    def print_ndimensions(self):\n",
    "        print(\"The number of dimensions is\", ndimensions)\n",
    "        \n",
    "    def impute(self, X):\n",
    "        imputer = SimpleImputer()\n",
    "        self.data_imp_ = imputer.fit_transform(X)\n",
    "    \n",
    "    def fit(self, X):\n",
    "        clf = self.reduction_type.lower();\n",
    "        \n",
    "        if clf == \"nmf\":\n",
    "            self.clf_ = NMF(n_components=self.ndimensions, init='random', random_state=0)\n",
    "        elif clf == \"pca\" :\n",
    "            self.clf_ = PCA(n_components=self.ndimensions)\n",
    "            \n",
    "        self.model_ =  self.clf_.fit_transform(self.data_imp_)\n",
    "        self.components_ = self.clf_.components_\n",
    "       \n",
    "        return self\n",
    "\n",
    "            \n",
    "    def reconstruct(self): \n",
    "        #[x, H] = model;\n",
    "        check_is_fitted(self, 'components_')\n",
    "        # self.recon_ = self.model_@self.components_;\n",
    "        self.recon_ = self.clf_.inverse_transform(self.model_)\n",
    "#         return reconstruction\n",
    "    \n",
    "    def plot_comparison(self):\n",
    "        fig, ax = plt.subplots();\n",
    "#         recon = self.model_@self.components_;\n",
    "        mean = np.mean(self.recon_, axis = 0);\n",
    "        data_mean = np.mean(self.data_imp_, axis = 0);\n",
    "        ax.plot(mean);\n",
    "        ax.plot(data_mean)\n",
    "        \n",
    "    def reconstruction_error(self): \n",
    "\n",
    "        loss = np.zeros(len(self.data_imp_));\n",
    "        for i in range(len(self.data_imp_)):\n",
    "#             loss[i] = np.sqrt(np.mean(((self.recon_[i, :])-self.data_imp_[i, :])**2))\n",
    "             loss[i] = np.sqrt(np.mean(((self.recon_[i, :])-self.data_imp_[i, :])**2))\n",
    "        return loss\n",
    "        # XXX \n",
    "        "
   ]
  },
  {
   "cell_type": "code",
   "execution_count": null,
   "metadata": {},
   "outputs": [],
   "source": [
    "import afqinsight.datasets as ad\n",
    "ad.__file__"
   ]
  },
  {
   "cell_type": "code",
   "execution_count": null,
   "metadata": {},
   "outputs": [],
   "source": [
    "data = ad.load_afq_data(fn_nodes= \"combined_tract_profiles.csv\", fn_subjects=\"participant_data.tsv\", \n",
    "                        unsupervised=True,return_bundle_means=False)"
   ]
  },
  {
   "cell_type": "code",
   "execution_count": null,
   "metadata": {},
   "outputs": [],
   "source": [
    "dki_fa = data.X[:, 0:1800]\n",
    "dki_md = data.X[:, 1801:3600]\n",
    "# dti_fa = data.X[:, 0:1800]\n",
    "# dki_md = data.X[:, 1801:3600]"
   ]
  },
  {
   "cell_type": "markdown",
   "metadata": {},
   "source": [
    "## NMF with 2 dimensions (dki_fa)"
   ]
  },
  {
   "cell_type": "code",
   "execution_count": null,
   "metadata": {},
   "outputs": [],
   "source": [
    "br1 = BundleReducer(\"NMF\", 15)"
   ]
  },
  {
   "cell_type": "code",
   "execution_count": null,
   "metadata": {},
   "outputs": [],
   "source": [
    "br1.impute(dki_fa)\n"
   ]
  },
  {
   "cell_type": "code",
   "execution_count": null,
   "metadata": {},
   "outputs": [],
   "source": [
    "br1.fit(dki_fa)"
   ]
  },
  {
   "cell_type": "code",
   "execution_count": null,
   "metadata": {},
   "outputs": [],
   "source": [
    "rec_dki_fa_1 = br1.reconstruct()"
   ]
  },
  {
   "cell_type": "markdown",
   "metadata": {},
   "source": [
    "### analysis for each individual participant"
   ]
  },
  {
   "cell_type": "code",
   "execution_count": null,
   "metadata": {},
   "outputs": [],
   "source": [
    "plt.plot(br1.data_imp_[1, :])\n",
    "plt.plot(br1.recon_[1, :])"
   ]
  },
  {
   "cell_type": "code",
   "execution_count": null,
   "metadata": {},
   "outputs": [],
   "source": [
    "np.sqrt(np.mean((br1.data_imp_[1, :]-br1.recon_[1, :])**2)) # 2"
   ]
  },
  {
   "cell_type": "code",
   "execution_count": null,
   "metadata": {},
   "outputs": [],
   "source": [
    "np.sqrt(np.mean((br1.data_imp_[1, :]-br1.recon_[1, :])**2)) # 5"
   ]
  },
  {
   "cell_type": "code",
   "execution_count": null,
   "metadata": {},
   "outputs": [],
   "source": [
    "np.sqrt(np.mean((br1.data_imp_[1, :]-br1.recon_[1, :])**2)) # 15"
   ]
  },
  {
   "cell_type": "code",
   "execution_count": null,
   "metadata": {},
   "outputs": [],
   "source": [
    "br1.components_"
   ]
  },
  {
   "cell_type": "code",
   "execution_count": null,
   "metadata": {},
   "outputs": [],
   "source": [
    "br1.plot_comparison()"
   ]
  },
  {
   "cell_type": "code",
   "execution_count": null,
   "metadata": {},
   "outputs": [],
   "source": [
    "error_br1 = br1.reconstruction_error()\n",
    "error_br1.shape"
   ]
  },
  {
   "cell_type": "markdown",
   "metadata": {},
   "source": [
    "## NMF with 3 dimensions (dki_fa)"
   ]
  },
  {
   "cell_type": "code",
   "execution_count": null,
   "metadata": {},
   "outputs": [],
   "source": [
    "br3 = BundleReducer(\"nmf\", 3)\n",
    "br3.impute(dki_fa)\n",
    "br3.fit(dki_fa)"
   ]
  },
  {
   "cell_type": "code",
   "execution_count": null,
   "metadata": {},
   "outputs": [],
   "source": [
    "rec_dki_fa_3 = br3.reconstruct()\n",
    "br3.plot_comparison()"
   ]
  },
  {
   "cell_type": "code",
   "execution_count": null,
   "metadata": {},
   "outputs": [],
   "source": [
    "error_br3 = br3.reconstruction_error()\n",
    "np.mean(error_br3)"
   ]
  },
  {
   "cell_type": "markdown",
   "metadata": {},
   "source": [
    "## NMF with 5 dimensions (dki_fa)"
   ]
  },
  {
   "cell_type": "code",
   "execution_count": null,
   "metadata": {},
   "outputs": [],
   "source": [
    "br5 = BundleReducer(\"nmf\", 5)\n",
    "br5.impute(dki_fa)\n",
    "br5.fit(dki_fa)"
   ]
  },
  {
   "cell_type": "code",
   "execution_count": null,
   "metadata": {},
   "outputs": [],
   "source": [
    "rec_dki_fa_5 = br5.reconstruct()\n",
    "br5.plot_comparison()"
   ]
  },
  {
   "cell_type": "code",
   "execution_count": null,
   "metadata": {},
   "outputs": [],
   "source": [
    "num_dim = [6, 8, 10]\n",
    "br = np.zeros(3)\n",
    "rec = np.zeros(3)\n",
    "for i in num_dim:\n",
    "    ind = index(i);\n",
    "    br[ind] = BundleReducer(\"nmf\", i)\n",
    "    br[ind].impute(dki_fa)\n",
    "    br[ind].fit(dki_fa)\n",
    "    rec[ind] = br[ind].reconstruct()\n"
   ]
  },
  {
   "cell_type": "code",
   "execution_count": null,
   "metadata": {},
   "outputs": [],
   "source": [
    "def diff_bundles(data_imp, data_recon, sample):\n",
    "    \n",
    "    diff_bundle = np.zeros(18)\n",
    "    for i in range(18):\n",
    "        ind = 100*i;\n",
    "        ind1 = ind +100;\n",
    "        diff_bundle[i] = np.sqrt(np.mean((data_imp[sample, ind:ind1]-data_recon[sample, ind:ind1])**2))\n",
    "        \n",
    "    diff = np.zeros([641, 18])\n",
    "    \n",
    "    return diff_bundle"
   ]
  },
  {
   "cell_type": "code",
   "execution_count": null,
   "metadata": {},
   "outputs": [],
   "source": [
    "diff_2 = np.zeros([641, 18])\n",
    "for i in range(641):\n",
    "    diff_2[i, :] = diff_bundles(br1.data_imp_, br1.recon_, i)\n",
    "diff_2 = diff_2.mean(axis = 0)\n",
    "diff_3 = np.zeros([641, 18])\n",
    "for i in range(641):\n",
    "    diff_3[i, :] = diff_bundles(br3.data_imp_, br3.recon_, i)\n",
    "diff_3 = diff_3.mean(axis = 0)\n",
    "diff_5 = np.zeros([641, 18])\n",
    "for i in range(641):\n",
    "    diff_5[i, :] = diff_bundles(br5.data_imp_, br5.recon_, i)\n",
    "diff_5 = diff_5.mean(axis = 0)\n",
    "diff_6 = np.zeros([641, 18])\n",
    "for i in range(641):\n",
    "    diff_6[i, :] = diff_bundles(br6.data_imp_, br6.recon_, i)\n",
    "diff_6 = diff_6.mean(axis = 0)\n",
    "diff_8 = np.zeros([641, 18])\n",
    "for i in range(641):\n",
    "    diff_8[i, :] = diff_bundles(br8.data_imp_, br8.recon_, i)\n",
    "diff_8 = diff_8.mean(axis = 0)\n",
    "diff_10 = np.zeros([641, 18])\n",
    "for i in range(641):\n",
    "    diff_10[i, :] = diff_bundles(br10.data_imp_, br10.recon_, i)\n",
    "diff_10 = diff_10.mean(axis = 0)"
   ]
  },
  {
   "cell_type": "code",
   "execution_count": null,
   "metadata": {},
   "outputs": [],
   "source": [
    "diff_2"
   ]
  },
  {
   "cell_type": "code",
   "execution_count": null,
   "metadata": {},
   "outputs": [],
   "source": [
    "diff = np.reshape(np.array([diff_2, diff_3, diff_5, diff_6, diff_8, diff_10]), (6, 18));"
   ]
  },
  {
   "cell_type": "code",
   "execution_count": null,
   "metadata": {},
   "outputs": [],
   "source": [
    "diff.shape[0]"
   ]
  },
  {
   "cell_type": "code",
   "execution_count": null,
   "metadata": {},
   "outputs": [],
   "source": [
    "import matplotlib.pyplot as plt\n",
    "import seaborn as sns\n",
    "\n",
    "import numpy as np\n",
    "\n",
    "# data = np.random.randn(100)\n",
    "\n",
    "# scaled_data = np.zeros((10, data.shape[0]))\n",
    "# for ii in range(1, 11): \n",
    "#     scaled_data[ii-1] = data / ii\n",
    "\n",
    "# scaled_data.shape\n",
    "\n",
    "p = sns.color_palette(\"rocket\", n_colors=6)\n",
    "ind = [2, 3, 5, 6, 8, 10]\n",
    "for dd in range(diff.shape[0]):\n",
    "    \n",
    "    plt.plot(diff[dd], color=p[dd], label = ind[dd])\n",
    "    plt.legend()"
   ]
  },
  {
   "cell_type": "code",
   "execution_count": null,
   "metadata": {},
   "outputs": [],
   "source": [
    "scaled_data.shape"
   ]
  },
  {
   "cell_type": "code",
   "execution_count": null,
   "metadata": {},
   "outputs": [],
   "source": [
    "# take average for coefficient for ddiferent components"
   ]
  },
  {
   "cell_type": "markdown",
   "metadata": {},
   "source": [
    "## PCA with 2 dimensions (dki_fa)"
   ]
  },
  {
   "cell_type": "code",
   "execution_count": null,
   "metadata": {},
   "outputs": [],
   "source": [
    "br2 = BundleReducer(\"pca\", 2)\n",
    "br2.impute(dki_fa)\n",
    "br2.fit(dki_fa)\n",
    "rec_dki_fa = br2.reconstruct()"
   ]
  },
  {
   "cell_type": "code",
   "execution_count": null,
   "metadata": {},
   "outputs": [],
   "source": [
    "br2.plot_comparison()"
   ]
  },
  {
   "cell_type": "code",
   "execution_count": null,
   "metadata": {},
   "outputs": [],
   "source": [
    "error_br2 = br2.reconstruction_error()\n",
    "np.mean(error_br2)"
   ]
  },
  {
   "cell_type": "markdown",
   "metadata": {},
   "source": [
    "## PCA with 3 dimensions (dki_fa)"
   ]
  },
  {
   "cell_type": "code",
   "execution_count": null,
   "metadata": {},
   "outputs": [],
   "source": [
    "br4 = BundleReducer(\"pca\", 3)\n",
    "br4.impute(dki_fa)\n",
    "br4.fit(dki_fa)\n",
    "rec_dki_fa = br4.reconstruct()"
   ]
  },
  {
   "cell_type": "code",
   "execution_count": null,
   "metadata": {},
   "outputs": [],
   "source": [
    "br4.plot_comparison()"
   ]
  },
  {
   "cell_type": "code",
   "execution_count": null,
   "metadata": {},
   "outputs": [],
   "source": [
    "error_br4 = br4.reconstruction_error()\n",
    "np.mean(error_br4)"
   ]
  },
  {
   "cell_type": "code",
   "execution_count": null,
   "metadata": {},
   "outputs": [],
   "source": [
    "plt.plot(br4.data_imp_[1, :])\n",
    "plt.plot(br4.recon_[1, :])"
   ]
  },
  {
   "cell_type": "code",
   "execution_count": null,
   "metadata": {},
   "outputs": [],
   "source": [
    "np.sqrt(np.mean((br4.data_imp_[1, :]-br4.recon_[1, :])**2)) # 3"
   ]
  },
  {
   "cell_type": "code",
   "execution_count": null,
   "metadata": {},
   "outputs": [],
   "source": [
    "np.sqrt(np.mean((br4.data_imp_[1, :100]-br4.recon_[1, :100])**2))"
   ]
  },
  {
   "cell_type": "code",
   "execution_count": null,
   "metadata": {},
   "outputs": [],
   "source": [
    "np.sqrt(np.mean((br4.data_imp_[1, 100:200]-br4.recon_[1, 100:200])**2))"
   ]
  },
  {
   "cell_type": "code",
   "execution_count": null,
   "metadata": {},
   "outputs": [],
   "source": [
    "np.sqrt(np.mean((br4.data_imp_[1, 1000:1100]-br4.recon_[1, 1000:1100])**2))"
   ]
  },
  {
   "cell_type": "code",
   "execution_count": null,
   "metadata": {},
   "outputs": [],
   "source": [
    "def diff_bundles(data_imp, data_recon, sample):\n",
    "    \n",
    "    diff_bundle = np.zeros(18)\n",
    "    for i in range(18):\n",
    "        ind = 100*i;\n",
    "        ind1 = ind +100;\n",
    "        diff_bundle[i] = np.sqrt(np.mean((data_imp[sample, ind:ind1]-data_recon[sample, ind:ind1])**2))\n",
    "    return diff_bundle"
   ]
  },
  {
   "cell_type": "code",
   "execution_count": null,
   "metadata": {},
   "outputs": [],
   "source": [
    "diff = np.zeros([641, 18])\n",
    "for i in range(641):\n",
    "    diff[i, :] = diff_bundles(br4.data_imp_, br4.recon_, i)\n",
    "diff = diff.mean(axis = 0)\n",
    "plt.plot(diff.T)"
   ]
  },
  {
   "cell_type": "code",
   "execution_count": null,
   "metadata": {},
   "outputs": [],
   "source": [
    "diff = np.zeros([641, 18])\n",
    "for i in range(641):\n",
    "    diff[i, :] = diff_bundles(br1.data_imp_, br1.recon_, i)\n",
    "diff = diff.mean(axis = 0)\n",
    "plt.plot(diff.T)"
   ]
  },
  {
   "cell_type": "markdown",
   "metadata": {},
   "source": [
    "seaborn continuous color pallete for different dimension lone\n",
    "different n dimeniosn in one graph\n"
   ]
  },
  {
   "cell_type": "code",
   "execution_count": null,
   "metadata": {},
   "outputs": [],
   "source": [
    "import matplotlib.pyplot as plt\n",
    "import seaborn as sns\n",
    "\n",
    "import numpy as np\n",
    "\n",
    "data = np.random.randn(100)\n",
    "\n",
    "scaled_data = np.zeros((10, data.shape[0]))\n",
    "for ii in range(1, 11): \n",
    "    scaled_data[ii-1] = data / ii\n",
    "\n",
    "scaled_data.shape\n",
    "\n",
    "p = sns.color_palette(\"rocket\", n_colors=10)\n",
    "\n",
    "for dd in range(scaled_data.shape[0]):\n",
    "    plt.plot(scaled_data[dd], color=p[dd])"
   ]
  },
  {
   "cell_type": "code",
   "execution_count": null,
   "metadata": {},
   "outputs": [],
   "source": []
  }
 ],
 "metadata": {
  "kernelspec": {
   "display_name": "Python 3",
   "language": "python",
   "name": "python3"
  },
  "language_info": {
   "codemirror_mode": {
    "name": "ipython",
    "version": 3
   },
   "file_extension": ".py",
   "mimetype": "text/x-python",
   "name": "python",
   "nbconvert_exporter": "python",
   "pygments_lexer": "ipython3",
   "version": "3.8.10"
  }
 },
 "nbformat": 4,
 "nbformat_minor": 4
}
